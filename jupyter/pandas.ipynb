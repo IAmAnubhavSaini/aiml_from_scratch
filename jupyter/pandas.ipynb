{
 "cells": [
  {
   "cell_type": "code",
   "execution_count": 2,
   "id": "a248a35b-28ac-446b-a196-7080bcf8a5ce",
   "metadata": {},
   "outputs": [
    {
     "name": "stdout",
     "output_type": "stream",
     "text": [
      "   A\n",
      "0  1\n",
      "1  2\n",
      "2  3\n",
      "<class 'pandas.core.frame.DataFrame'>\n"
     ]
    }
   ],
   "source": [
    "import pandas as pd\n",
    "df = pd.DataFrame({'A': [1, 2, 3]})\n",
    "\n",
    "print(df)\n",
    "print(type(df))"
   ]
  },
  {
   "cell_type": "code",
   "execution_count": 3,
   "id": "0043cd0d-debd-4798-830a-766a9b53a961",
   "metadata": {},
   "outputs": [
    {
     "name": "stdout",
     "output_type": "stream",
     "text": [
      "0    10\n",
      "dtype: int64\n",
      "<class 'pandas.core.series.Series'>\n"
     ]
    }
   ],
   "source": [
    "s = pd.Series(10)\n",
    "\n",
    "print(s)\n",
    "print(type(s))"
   ]
  },
  {
   "cell_type": "code",
   "execution_count": 4,
   "id": "ee2ced85-35e7-4b97-b011-aac94661bf23",
   "metadata": {},
   "outputs": [
    {
     "name": "stdout",
     "output_type": "stream",
     "text": [
      "half_normal      A\n",
      "0 -2.0\n",
      "1 -1.5\n",
      "2 -1.0\n",
      "3 -0.5\n",
      "4  0.0\n",
      "5  0.5\n",
      "6  1.0\n",
      "7  1.5\n",
      "8  2.0\n",
      "double_normal    A\n",
      "0 -8\n",
      "1 -6\n",
      "2 -4\n",
      "3 -2\n",
      "4  0\n",
      "5  2\n",
      "6  4\n",
      "7  6\n",
      "8  8\n"
     ]
    }
   ],
   "source": [
    "df = pd.DataFrame({'A': [-4, -3, -2, -1 ,0, 1, 2, 3, 4]})\n",
    "\n",
    "half_normal = df / 2\n",
    "print(\"half_normal\", half_normal)\n",
    "\n",
    "double_normal = df * 2\n",
    "print(\"double_normal\", double_normal)"
   ]
  },
  {
   "cell_type": "code",
   "execution_count": 5,
   "id": "c601b817-09df-4a85-9bfa-f65e60fa6db8",
   "metadata": {},
   "outputs": [
    {
     "name": "stdout",
     "output_type": "stream",
     "text": [
      "maximum in df[A]\n",
      "4\n",
      "normalized data_frame by maximum value in A\n",
      "      A\n",
      "0 -1.00\n",
      "1 -0.75\n",
      "2 -0.50\n",
      "3 -0.25\n",
      "4  0.00\n",
      "5  0.25\n",
      "6  0.50\n",
      "7  0.75\n",
      "8  1.00\n"
     ]
    }
   ],
   "source": [
    "df = pd.DataFrame({'A': [-4, -3, -2, -1 ,0, 1, 2, 3, 4]})\n",
    "max_val = max(df['A'])\n",
    "print(\"maximum in df[A]\")\n",
    "print(max_val)\n",
    "\n",
    "normalized = df / max_val\n",
    "print(\"normalized data_frame by maximum value in A\")\n",
    "print(normalized)"
   ]
  },
  {
   "cell_type": "code",
   "execution_count": 7,
   "id": "7e4e5632-18f5-41fe-9c29-98e9447b4150",
   "metadata": {},
   "outputs": [
    {
     "name": "stdout",
     "output_type": "stream",
     "text": [
      "      Y  M\n",
      "0  2020  1\n",
      "1  2021  2\n",
      "2  2022  3\n",
      "3  2023  4\n",
      "4  2024  5\n"
     ]
    }
   ],
   "source": [
    "df = pd.DataFrame({'Y': [2020, 2021, 2022, 2023, 2024], 'M': [1, 2, 3, 4, 5]})\n",
    "print(df)"
   ]
  },
  {
   "cell_type": "code",
   "execution_count": 8,
   "id": "d0587dd8-826c-45cf-816a-d990f597cfaf",
   "metadata": {},
   "outputs": [
    {
     "name": "stdout",
     "output_type": "stream",
     "text": [
      "0    20\n",
      "1    21\n",
      "2    22\n",
      "3    23\n",
      "4    24\n",
      "Name: Y, dtype: int64\n"
     ]
    }
   ],
   "source": [
    "print(df['Y'] - 2000)\n"
   ]
  }
 ],
 "metadata": {
  "kernelspec": {
   "display_name": "Python 3 (ipykernel)",
   "language": "python",
   "name": "python3"
  },
  "language_info": {
   "codemirror_mode": {
    "name": "ipython",
    "version": 3
   },
   "file_extension": ".py",
   "mimetype": "text/x-python",
   "name": "python",
   "nbconvert_exporter": "python",
   "pygments_lexer": "ipython3",
   "version": "3.11.2"
  }
 },
 "nbformat": 4,
 "nbformat_minor": 5
}
